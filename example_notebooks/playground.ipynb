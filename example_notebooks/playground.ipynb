{
 "cells": [
  {
   "cell_type": "code",
   "execution_count": 1,
   "metadata": {},
   "outputs": [],
   "source": [
    "%load_ext autoreload\n",
    "%autoreload 2"
   ]
  },
  {
   "cell_type": "code",
   "execution_count": 2,
   "metadata": {},
   "outputs": [],
   "source": [
    "import json\n",
    "import matplotlib.pyplot as plt\n",
    "from geenuff.base import types\n",
    "from dna_features_viewer import GraphicFeature, GraphicRecord\n",
    "import ipywidgets as widgets\n",
    "from geenuff.base import types"
   ]
  },
  {
   "cell_type": "code",
   "execution_count": 32,
   "metadata": {},
   "outputs": [],
   "source": [
    "from wip.wipClasses import Transcript,SuperLocus,CoordinatePiece,Feature, GeenuffCollection, DrawableSuperLocus, DrawableGeenuffCollection, DummyWidget"
   ]
  },
  {
   "cell_type": "code",
   "execution_count": 97,
   "metadata": {},
   "outputs": [],
   "source": [
    "\n",
    "# load example\n",
    "example_json = \"example_data.json\" \n",
    "#example_json = \"geenuffjsons/Creinhardtii_chromosome_1.json\" \n",
    "#example_json = \"geenuffjsons/Creinhardtii_scaffold_18.json\"\n",
    "example_data = None\n",
    "with open(example_json) as json_file:\n",
    "    example_data = json.load(json_file)"
   ]
  },
  {
   "cell_type": "code",
   "execution_count": 98,
   "metadata": {},
   "outputs": [],
   "source": [
    "gc = GeenuffCollection.from_dct(example_data[0])\n",
    "#valid = [t.value for t in types.GeenuffFeature]\n",
    "zoomies = [(100,120),(1270,1300), (1600,1620)]\n",
    "collection = []\n",
    "z0,z1 = zoomies[0]\n",
    "\n",
    "for j,i in enumerate(gc.super_loci):\n",
    "\n",
    "    tmp = DrawableSuperLocus(super_locus=i,coordinate_piece=gc.coordinate_piece)\n",
    "    collection.append(tmp)\n",
    "    #tmp.draw(save_to=\"./vis_{}_geenuff.png\".format(j))\n",
    "    #tmp.draw(zoom_coordinates = zoomies[j])\n",
    "\n",
    "#have_errors = gc.get_filtered_by_type(['missing_utr_5p', 'missing_utr_3p', 'empty_super_locus', 'missing_start_codon', 'missing_stop_codon', 'wrong_starting_phase', 'mismatched_ending_phase', 'overlapping_exons', 'too_short_intron', 'super_loci_overlap_error', 'missmatching_strands'])\n",
    "#for h in have_errors:\n",
    "    #print(h)\n",
    "#    tmp = DrawableSuperLocus(super_locus=h,coordinate_piece=gc.coordinate_piece)\n",
    "#    for i in range(tmp.pos_min+3600, tmp.pos_min+3800, 100):\n",
    "        #tmp.draw(figure_width=4, with_ruler=False, save_to=\"tmp_nz_{}.svg\".format(i))\n",
    "#        tmp.draw(zoom_coordinates=(i,i+100),figure_width=20, save_to=\"tmp_{}.svg\".format(i))\n"
   ]
  },
  {
   "cell_type": "code",
   "execution_count": 99,
   "metadata": {},
   "outputs": [
    {
     "data": {
      "application/vnd.jupyter.widget-view+json": {
       "model_id": "ef875f8d185e4f98bc906450a89e3cbc",
       "version_major": 2,
       "version_minor": 0
      },
      "text/plain": [
       "VBox(children=(IntRangeSlider(value=(100, 120), continuous_update=False, description='Zoom Pos:', max=120, min…"
      ]
     },
     "metadata": {},
     "output_type": "display_data"
    }
   ],
   "source": [
    "valid = [t.value for t in types.GeenuffFeature]\n",
    "menu = widgets.Dropdown(\n",
    "       options=valid,\n",
    "       value=None,\n",
    "       description='GeenuffType:')\n",
    "\n",
    "zoom_slider =widgets.IntRangeSlider(\n",
    "value=[z0,z1],\n",
    "min=z0,\n",
    "max=z1,\n",
    "step=1,\n",
    "description='Zoom Pos:',\n",
    "disabled=False,\n",
    "continuous_update=False,\n",
    "orientation='horizontal',\n",
    "readout=True,\n",
    "readout_format='d',\n",
    ")\n",
    "button = widgets.Button(description='Plot')\n",
    "out = widgets.Output()\n",
    "def on_button_clicked(_):\n",
    "      # \"linking function with output\"\n",
    "    with out:\n",
    "    # what happens when we press the button\n",
    "        out.clear_output()\n",
    "        print('Something happens!')\n",
    "button.on_click(on_button_clicked)\n",
    "\n",
    "box = widgets.VBox([zoom_slider,menu, button, out])\n",
    "box"
   ]
  },
  {
   "cell_type": "code",
   "execution_count": 100,
   "metadata": {},
   "outputs": [
    {
     "data": {
      "text/plain": [
       "set()"
      ]
     },
     "execution_count": 100,
     "metadata": {},
     "output_type": "execute_result"
    }
   ],
   "source": [
    "selection =  gc.get_filtered_by_type([menu.value])\n",
    "selection\n"
   ]
  },
  {
   "cell_type": "code",
   "execution_count": 133,
   "metadata": {},
   "outputs": [
    {
     "data": {
      "application/vnd.jupyter.widget-view+json": {
       "model_id": "37fa99128e794039a5bf07a2b2fce80e",
       "version_major": 2,
       "version_minor": 0
      },
      "text/plain": [
       "IntRangeSlider(value=(5, 7), continuous_update=False, description='Test:', max=10, orientation='vertical')"
      ]
     },
     "metadata": {},
     "output_type": "display_data"
    }
   ],
   "source": [
    "widgets.IntRangeSlider(\n",
    "    value=[5, 7],\n",
    "    min=0,\n",
    "    max=10,\n",
    "    step=1,\n",
    "    description='Test:',\n",
    "    disabled=False,\n",
    "    continuous_update=False,\n",
    "    orientation='vertical',\n",
    "    readout=True,\n",
    "    readout_format='d',\n",
    ")"
   ]
  },
  {
   "cell_type": "code",
   "execution_count": 134,
   "metadata": {},
   "outputs": [],
   "source": [
    "#DrawableGeenuffCollection(list_of_drawable_super_loci=collection,coordinate_piece = gc.coordinate_piece).draw(save_to=\"too_big_collection.png\")"
   ]
  },
  {
   "cell_type": "code",
   "execution_count": 152,
   "metadata": {},
   "outputs": [],
   "source": [
    "tmp\n",
    "dw = DummyWidget(tmp)"
   ]
  },
  {
   "cell_type": "code",
   "execution_count": 153,
   "metadata": {},
   "outputs": [
    {
     "data": {
      "application/vnd.jupyter.widget-view+json": {
       "model_id": "403153b141904fa59abeb5b91c899428",
       "version_major": 2,
       "version_minor": 0
      },
      "text/plain": [
       "VBox(children=(IntRangeSlider(value=(1599, 1800), continuous_update=False, description='Zoom Pos:', layout=Lay…"
      ]
     },
     "metadata": {},
     "output_type": "display_data"
    },
    {
     "data": {
      "image/png": "[encoded data removed]",
      "text/plain": [
       "<Figure size 576x187.2 with 1 Axes>"
      ]
     },
     "metadata": {},
     "output_type": "display_data"
    }
   ],
   "source": [
    "dw.box"
   ]
  },
  {
   "cell_type": "code",
   "execution_count": null,
   "metadata": {},
   "outputs": [],
   "source": []
  }
 ],
 "metadata": {
  "kernelspec": {
   "display_name": "Python 3",
   "language": "python",
   "name": "python3"
  },
  "language_info": {
   "codemirror_mode": {
    "name": "ipython",
    "version": 3
   },
   "file_extension": ".py",
   "mimetype": "text/x-python",
   "name": "python",
   "nbconvert_exporter": "python",
   "pygments_lexer": "ipython3",
   "version": "3.7.3"
  }
 },
 "nbformat": 4,
 "nbformat_minor": 4
}
